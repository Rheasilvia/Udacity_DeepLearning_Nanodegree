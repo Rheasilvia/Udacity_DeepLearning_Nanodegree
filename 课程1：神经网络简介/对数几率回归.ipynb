{
 "cells": [
  {
   "cell_type": "markdown",
   "metadata": {},
   "source": [
    "## 对数几率回归\n",
    "\n",
    "对数回归的算法：\n",
    "1. 获得数据\n",
    "2. 选择一个随机模型\n",
    "3. 计算误差\n",
    "4. 最小化误差，获得更好的模型\n",
    "5. 完成！"
   ]
  }
 ],
 "metadata": {
  "kernelspec": {
   "display_name": "Python 3",
   "language": "python",
   "name": "python3"
  },
  "language_info": {
   "codemirror_mode": {
    "name": "ipython",
    "version": 3
   },
   "file_extension": ".py",
   "mimetype": "text/x-python",
   "name": "python",
   "nbconvert_exporter": "python",
   "pygments_lexer": "ipython3",
   "version": "3.6.4"
  }
 },
 "nbformat": 4,
 "nbformat_minor": 2
}
