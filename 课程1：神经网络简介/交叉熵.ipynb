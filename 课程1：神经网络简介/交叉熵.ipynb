{
 "cells": [
  {
   "cell_type": "markdown",
   "metadata": {},
   "source": [
    "## 交叉熵\n",
    "\n",
    "我们遇到了某种规律，概率和误差函数之间肯定有一定的联系，这种联系叫做交叉熵。\n",
    "\n",
    "> 如果有一系列的时间及其对应的发生概率，根据这些概率，这些事件发生的可能性有多大？\n",
    "- 如果很有可能，交叉熵会很小。\n",
    "- 如果不太可能发生，那么交叉熵会很小。\n",
    "\n",
    "交叉熵告诉2个向量是否相似。"
   ]
  },
  {
   "cell_type": "code",
   "execution_count": 1,
   "metadata": {},
   "outputs": [],
   "source": [
    "#交叉熵\n",
    "import numpy as np\n",
    "\n",
    "def cross_entropy(Y,P):\n",
    "    Y = np.float_(Y)\n",
    "    P = np.float_(P)\n",
    "    return -np.sum(Y * np.log(np.float_))"
   ]
  },
  {
   "cell_type": "markdown",
   "metadata": {},
   "source": [
    "![avatar](./imgs/Snip20180402_1.png)\n",
    "\n",
    "- 如果是二分类问题，使用左侧误差函数。\n",
    "- 如果是多分类问题，使用右侧误差函数。"
   ]
  },
  {
   "cell_type": "markdown",
   "metadata": {},
   "source": [
    "## 梯度下降\n",
    "梯度实际上是标量乘以点的坐标！什么是标量？也就是标签和预测直接的差别。这意味着，如果标签与预测接近（表示点分类正确），该梯度将很小，如果标签与预测差别很大（表示点分类错误），那么此梯度将很大。请记下：小的梯度表示我们将稍微修改下坐标，大的梯度表示我们将大幅度修改坐标。"
   ]
  },
  {
   "cell_type": "code",
   "execution_count": null,
   "metadata": {},
   "outputs": [],
   "source": []
  }
 ],
 "metadata": {
  "kernelspec": {
   "display_name": "Python 3",
   "language": "python",
   "name": "python3"
  },
  "language_info": {
   "codemirror_mode": {
    "name": "ipython",
    "version": 3
   },
   "file_extension": ".py",
   "mimetype": "text/x-python",
   "name": "python",
   "nbconvert_exporter": "python",
   "pygments_lexer": "ipython3",
   "version": "3.6.4"
  }
 },
 "nbformat": 4,
 "nbformat_minor": 2
}
